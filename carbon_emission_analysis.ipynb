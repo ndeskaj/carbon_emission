{
 "cells": [
  {
   "cell_type": "code",
   "execution_count": 6,
   "metadata": {},
   "outputs": [
    {
     "data": {
      "text/plain": [
       "(   ObjectId                       Country ISO2 ISO3  F1961  F1962  F1963  \\\n",
       " 0         1  Afghanistan, Islamic Rep. of   AF  AFG -0.113 -0.164  0.847   \n",
       " 1         2                       Albania   AL  ALB  0.627  0.326  0.075   \n",
       " 2         3                       Algeria   DZ  DZA  0.164  0.114  0.077   \n",
       " 3         4                American Samoa   AS  ASM  0.079 -0.042  0.169   \n",
       " 4         5      Andorra, Principality of   AD  AND  0.736  0.112 -0.752   \n",
       " \n",
       "    F1964  F1965  F1966  ...  F2013  F2014  F2015  F2016  F2017  F2018  F2019  \\\n",
       " 0 -0.764 -0.244  0.226  ...  1.281  0.456  1.093  1.555  1.540  1.544  0.910   \n",
       " 1 -0.166 -0.388  0.559  ...  1.333  1.198  1.569  1.464  1.121  2.028  1.675   \n",
       " 2  0.250 -0.100  0.433  ...  1.192  1.690  1.121  1.757  1.512  1.210  1.115   \n",
       " 3 -0.140 -0.562  0.181  ...  1.257  1.170  1.009  1.539  1.435  1.189  1.539   \n",
       " 4  0.308 -0.490  0.415  ...  0.831  1.946  1.690  1.990  1.925  1.919  1.964   \n",
       " \n",
       "    F2020  F2021  F2022  \n",
       " 0  0.498  1.327  2.012  \n",
       " 1  1.498  1.536  1.518  \n",
       " 2  1.926  2.330  1.688  \n",
       " 3  1.430  1.268  1.256  \n",
       " 4  2.562  1.533  3.243  \n",
       " \n",
       " [5 rows x 66 columns],\n",
       "    ObjectId Country     Date   Value\n",
       " 0         1   World  1958M03  315.70\n",
       " 1         2   World  1958M04  317.45\n",
       " 2         3   World  1958M05  317.51\n",
       " 3         4   World  1958M06  317.24\n",
       " 4         5   World  1958M07  315.86)"
      ]
     },
     "execution_count": 6,
     "metadata": {},
     "output_type": "execute_result"
    }
   ],
   "source": [
    "import pandas as pd\n",
    "\n",
    "# load data\n",
    "temperature_data = pd.read_csv('./data/temperature.csv')\n",
    "co2_data = pd.read_csv('./data/carbon_emission.csv')\n",
    "\n",
    "temperature_data.head(), co2_data.head()"
   ]
  },
  {
   "cell_type": "code",
   "execution_count": null,
   "metadata": {},
   "outputs": [],
   "source": []
  },
  {
   "cell_type": "markdown",
   "metadata": {},
   "source": [
    "We are using two datasets:\n",
    "\n",
    "1. Temperature Data: Annual temperature anomalies measured in degrees Celsius across decades.\n",
    "\n",
    "2. CO2 Data: Monthly global atmospheric CO2 concentrations in parts per million (ppm)\n",
    "\n",
    "\n",
    "Getting key statistics for both datasets:"
   ]
  },
  {
   "cell_type": "code",
   "execution_count": 7,
   "metadata": {},
   "outputs": [
    {
     "data": {
      "text/plain": [
       "({'Mean': 0.5377713483146068, 'Median': 0.47, 'Variance': 0.4294524831504413},\n",
       " {'Mean': 180.71615286624203, 'Median': 313.835, 'Variance': 32600.002004693})"
      ]
     },
     "execution_count": 7,
     "metadata": {},
     "output_type": "execute_result"
    }
   ],
   "source": [
    "temperature_values = temperature_data.filter(regex='^F').stack() # extract year column\n",
    "temperature_sats = {\n",
    "    \"Mean\": temperature_values.mean(),\n",
    "    \"Median\": temperature_values.median(),\n",
    "    \"Variance\": temperature_values.var()\n",
    "}\n",
    "\n",
    "co2_values = co2_data[\"Value\"]\n",
    "co2_stats = {\n",
    "    \"Mean\": co2_values.mean(),\n",
    "    \"Median\": co2_values.median(),\n",
    "    \"Variance\": co2_values.var()\n",
    "}\n",
    "\n",
    "temperature_sats, co2_stats"
   ]
  },
  {
   "cell_type": "markdown",
   "metadata": {},
   "source": [
    "Mean temperature change is apporximately 0.54°C, with median of 0.47°C and variance of 0.43, which indicates slight variability in temperature anomalies.\n",
    "\n",
    "For CO2 concentrations the mean is 180.72 ppm, the median is higher at 313.84 ppm and the variance is 32,600, which reflects substantial variability in CO2 levels over the dataset's timeframe."
   ]
  },
  {
   "cell_type": "code",
   "execution_count": null,
   "metadata": {},
   "outputs": [],
   "source": []
  }
 ],
 "metadata": {
  "kernelspec": {
   "display_name": "Python 3",
   "language": "python",
   "name": "python3"
  },
  "language_info": {
   "codemirror_mode": {
    "name": "ipython",
    "version": 3
   },
   "file_extension": ".py",
   "mimetype": "text/x-python",
   "name": "python",
   "nbconvert_exporter": "python",
   "pygments_lexer": "ipython3",
   "version": "3.12.9"
  }
 },
 "nbformat": 4,
 "nbformat_minor": 2
}
